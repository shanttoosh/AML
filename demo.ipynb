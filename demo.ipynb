{
 "cells": [
  {
   "cell_type": "code",
   "execution_count": 1,
   "id": "0f80a5fd",
   "metadata": {},
   "outputs": [
    {
     "name": "stderr",
     "output_type": "stream",
     "text": [
      "c:\\Users\\DELL\\OneDrive\\Desktop\\csv_repo\\venv\\lib\\site-packages\\tqdm\\auto.py:21: TqdmWarning: IProgress not found. Please update jupyter and ipywidgets. See https://ipywidgets.readthedocs.io/en/stable/user_install.html\n",
      "  from .autonotebook import tqdm as notebook_tqdm\n"
     ]
    }
   ],
   "source": [
    "import pandas as pd\n",
    "import random\n",
    "from sentence_transformers import SentenceTransformer\n",
    "import chromadb\n",
    "\n"
   ]
  },
  {
   "cell_type": "code",
   "execution_count": 2,
   "id": "7ce17fc2",
   "metadata": {},
   "outputs": [
    {
     "name": "stdout",
     "output_type": "stream",
     "text": [
      "✅ synthetic_retail_data.csv generated successfully!\n"
     ]
    }
   ],
   "source": [
    "\n",
    "# ----------------------------\n",
    "# Step 1: Generate synthetic dataset\n",
    "# ----------------------------\n",
    "n_rows = 200\n",
    "data = {\n",
    "    \"InvoiceNo\": [f\"INV{1000+i}\" for i in range(n_rows)],\n",
    "    \"StockCode\": [f\"STK{random.randint(100, 999)}\" for _ in range(n_rows)],\n",
    "    \"Description\": [random.choice([\"T-shirt\", \"Shoes\", \"Laptop\", \"Phone\", \"Book\", \"Pen\", \"Bag\"]) for _ in range(n_rows)],\n",
    "    \"Quantity\": [random.randint(1, 10) for _ in range(n_rows)],\n",
    "    \"InvoiceDate\": pd.date_range(start=\"2023-01-01\", periods=n_rows, freq=\"D\").strftime(\"%Y-%m-%d\").tolist(),\n",
    "    \"UnitPrice\": [round(random.uniform(5, 500), 2) for _ in range(n_rows)],\n",
    "    \"CustomerID\": [random.randint(10000, 20000) for _ in range(n_rows)],\n",
    "    \"Country\": [random.choice([\"India\", \"USA\", \"UK\", \"Germany\", \"Canada\"]) for _ in range(n_rows)]\n",
    "}\n",
    "\n",
    "df = pd.DataFrame(data)\n",
    "df.to_csv(\"synthetic_retail_data.csv\", index=False)\n",
    "print(\"✅ synthetic_retail_data.csv generated successfully!\")\n",
    "\n"
   ]
  },
  {
   "cell_type": "code",
   "execution_count": 3,
   "id": "6bd5fbd2",
   "metadata": {},
   "outputs": [
    {
     "name": "stdout",
     "output_type": "stream",
     "text": [
      "Sample chunks: ['InvoiceNo: INV1000, StockCode: STK992, Description: T-shirt, Quantity: 10, InvoiceDate: 2023-01-01, UnitPrice: 46.86, CustomerID: 13990, Country: USA', 'InvoiceNo: INV1001, StockCode: STK765, Description: Pen, Quantity: 4, InvoiceDate: 2023-01-02, UnitPrice: 311.23, CustomerID: 17835, Country: Canada', 'InvoiceNo: INV1002, StockCode: STK894, Description: Pen, Quantity: 2, InvoiceDate: 2023-01-03, UnitPrice: 114.29, CustomerID: 19268, Country: USA']\n"
     ]
    }
   ],
   "source": [
    "# ----------------------------\n",
    "# Step 2: Convert rows into chunks\n",
    "# ----------------------------\n",
    "chunks = []\n",
    "for idx, row in df.iterrows():\n",
    "    chunk_text = f\"InvoiceNo: {row['InvoiceNo']}, \" \\\n",
    "                 f\"StockCode: {row['StockCode']}, \" \\\n",
    "                 f\"Description: {row['Description']}, \" \\\n",
    "                 f\"Quantity: {row['Quantity']}, \" \\\n",
    "                 f\"InvoiceDate: {row['InvoiceDate']}, \" \\\n",
    "                 f\"UnitPrice: {row['UnitPrice']}, \" \\\n",
    "                 f\"CustomerID: {row['CustomerID']}, \" \\\n",
    "                 f\"Country: {row['Country']}\"\n",
    "    chunks.append(chunk_text)\n",
    "\n",
    "print(\"Sample chunks:\", chunks[:3])\n",
    "\n"
   ]
  },
  {
   "cell_type": "code",
   "execution_count": 4,
   "id": "d6d9857b",
   "metadata": {},
   "outputs": [
    {
     "name": "stdout",
     "output_type": "stream",
     "text": [
      "Embeddings shape: 200 x 384\n"
     ]
    }
   ],
   "source": [
    "# ----------------------------\n",
    "# Step 3: Create embeddings\n",
    "# ----------------------------\n",
    "model = SentenceTransformer(\"all-MiniLM-L6-v2\")\n",
    "embeddings = model.encode(chunks)\n",
    "\n",
    "print(f\"Embeddings shape: {len(embeddings)} x {len(embeddings[0])}\")\n",
    "\n",
    "\n",
    "\n",
    "\n",
    "\n",
    "\n",
    "\n",
    "\n"
   ]
  },
  {
   "cell_type": "code",
   "execution_count": 5,
   "id": "ac0caad9",
   "metadata": {},
   "outputs": [],
   "source": [
    "# ----------------------------\n",
    "# Step 4: Store in ChromaDB with metadata\n",
    "client = chromadb.PersistentClient(path=\"chromadb_store\")\n",
    "collection = client.get_or_create_collection(\"retail_chunks\")\n"
   ]
  },
  {
   "cell_type": "code",
   "execution_count": 6,
   "id": "68bfb0d0",
   "metadata": {},
   "outputs": [
    {
     "name": "stdout",
     "output_type": "stream",
     "text": [
      "✅ Data stored in ChromaDB successfully!\n",
      "Stored embeddings: 200\n"
     ]
    }
   ],
   "source": [
    "# Optional: clear old data only if collection already has entries\n",
    "if collection.count() > 0:\n",
    "    all_ids = collection.get()[\"ids\"]\n",
    "    if all_ids:  # avoid crash if empty\n",
    "        collection.delete(ids=all_ids)\n",
    "\n",
    "# Insert data with metadata\n",
    "for i, (text, emb) in enumerate(zip(chunks, embeddings)):\n",
    "    row = df.iloc[i]\n",
    "    collection.add(\n",
    "        ids=[str(i)],\n",
    "        documents=[text],\n",
    "        embeddings=[emb],\n",
    "        metadatas=[{\n",
    "            \"InvoiceNo\": row[\"InvoiceNo\"],\n",
    "            \"StockCode\": row[\"StockCode\"],\n",
    "            \"Description\": row[\"Description\"],\n",
    "            \"Quantity\": int(row[\"Quantity\"]),\n",
    "            \"InvoiceDate\": row[\"InvoiceDate\"],\n",
    "            \"UnitPrice\": float(row[\"UnitPrice\"]),\n",
    "            \"CustomerID\": int(row[\"CustomerID\"]),\n",
    "            \"Country\": row[\"Country\"]\n",
    "        }]\n",
    "    )\n",
    "\n",
    "print(\"✅ Data stored in ChromaDB successfully!\")\n",
    "print(\"Stored embeddings:\", collection.count())"
   ]
  },
  {
   "cell_type": "code",
   "execution_count": 7,
   "id": "7d9daed4",
   "metadata": {},
   "outputs": [],
   "source": [
    "# -----------------------------\n",
    "# Step 6: Evaluate Retrieval with Recall@k\n",
    "# -----------------------------\n",
    "\n",
    "def recall_at_k(collection, model, query, ground_truth_ids, k=5):\n",
    "    query_emb = model.encode([query])\n",
    "    results = collection.query(query_embeddings=query_emb, n_results=k)\n",
    "    retrieved_ids = results[\"ids\"][0]\n",
    "\n",
    "    relevant_retrieved = set(retrieved_ids) & set(ground_truth_ids)\n",
    "    recall = len(relevant_retrieved) / len(ground_truth_ids) if ground_truth_ids else 0.0\n",
    "    return recall, retrieved_ids"
   ]
  },
  {
   "cell_type": "code",
   "execution_count": 8,
   "id": "3a51e2dc",
   "metadata": {},
   "outputs": [
    {
     "name": "stdout",
     "output_type": "stream",
     "text": [
      "Query: Laptop\n",
      "  Recall@5 = 0.17\n",
      "  Retrieved IDs: ['108', '76', '132', '58', '158']\n",
      "  Ground Truth IDs (first 5): ['11', '18', '19', '34', '35']\n",
      "----------------------------------------\n",
      "Query: Shoes\n",
      "  Recall@5 = 0.14\n",
      "  Retrieved IDs: ['137', '170', '134', '180', '127']\n",
      "  Ground Truth IDs (first 5): ['38', '46', '53', '56', '63']\n",
      "----------------------------------------\n",
      "Query: Book\n",
      "  Recall@5 = 0.17\n",
      "  Retrieved IDs: ['6', '101', '29', '161', '177']\n",
      "  Ground Truth IDs (first 5): ['6', '8', '10', '12', '16']\n",
      "----------------------------------------\n"
     ]
    }
   ],
   "source": [
    "# Example evaluation queries\n",
    "queries = [\"Laptop\", \"Shoes\", \"Book\"]\n",
    "for q in queries:\n",
    "    ground_truth_ids = [str(i) for i, desc in enumerate(df[\"Description\"]) if q in desc]\n",
    "    recall, retrieved = recall_at_k(collection, model, query=q, ground_truth_ids=ground_truth_ids, k=5)\n",
    "    print(f\"Query: {q}\")\n",
    "    print(f\"  Recall@5 = {recall:.2f}\")\n",
    "    print(f\"  Retrieved IDs: {retrieved}\")\n",
    "    print(f\"  Ground Truth IDs (first 5): {ground_truth_ids[:5]}\")\n",
    "    print(\"-\" * 40)"
   ]
  },
  {
   "cell_type": "code",
   "execution_count": 9,
   "id": "0d674b6f",
   "metadata": {},
   "outputs": [
    {
     "name": "stderr",
     "output_type": "stream",
     "text": [
      "C:\\Users\\DELL\\.cache\\chroma\\onnx_models\\all-MiniLM-L6-v2\\onnx.tar.gz: 100%|██████████| 79.3M/79.3M [00:20<00:00, 3.96MiB/s]\n"
     ]
    },
    {
     "name": "stdout",
     "output_type": "stream",
     "text": [
      "🔎 Query Results:\n",
      "Match: InvoiceNo: INV1101, StockCode: STK667, Description: Book, Quantity: 7, InvoiceDate: 2023-04-12, UnitPrice: 272.87, CustomerID: 19516, Country: India\n",
      "Distance: 1.5735\n",
      "\n",
      "Match: InvoiceNo: INV1029, StockCode: STK275, Description: Book, Quantity: 6, InvoiceDate: 2023-01-30, UnitPrice: 486.86, CustomerID: 18583, Country: UK\n",
      "Distance: 1.5749\n",
      "\n",
      "Match: InvoiceNo: INV1006, StockCode: STK273, Description: Book, Quantity: 7, InvoiceDate: 2023-01-07, UnitPrice: 497.06, CustomerID: 14216, Country: USA\n",
      "Distance: 1.5888\n",
      "\n",
      "Match: InvoiceNo: INV1129, StockCode: STK937, Description: Book, Quantity: 4, InvoiceDate: 2023-05-10, UnitPrice: 282.27, CustomerID: 14666, Country: Canada\n",
      "Distance: 1.6107\n",
      "\n",
      "Match: InvoiceNo: INV1161, StockCode: STK372, Description: Book, Quantity: 5, InvoiceDate: 2023-06-11, UnitPrice: 489.06, CustomerID: 16875, Country: Canada\n",
      "Distance: 1.6112\n",
      "\n"
     ]
    }
   ],
   "source": [
    "# Example query\n",
    "results = collection.query(\n",
    "    query_texts=[\"cheap book\"],  # user query\n",
    "    n_results=5                    # top 5 results\n",
    ")\n",
    "\n",
    "print(\"🔎 Query Results:\")\n",
    "for doc, dist in zip(results[\"documents\"][0], results[\"distances\"][0]):\n",
    "    print(f\"Match: {doc}\\nDistance: {dist:.4f}\\n\")\n"
   ]
  },
  {
   "cell_type": "code",
   "execution_count": 43,
   "id": "c046605f",
   "metadata": {},
   "outputs": [
    {
     "data": {
      "text/html": [
       "<div>\n",
       "<style scoped>\n",
       "    .dataframe tbody tr th:only-of-type {\n",
       "        vertical-align: middle;\n",
       "    }\n",
       "\n",
       "    .dataframe tbody tr th {\n",
       "        vertical-align: top;\n",
       "    }\n",
       "\n",
       "    .dataframe thead th {\n",
       "        text-align: right;\n",
       "    }\n",
       "</style>\n",
       "<table border=\"1\" class=\"dataframe\">\n",
       "  <thead>\n",
       "    <tr style=\"text-align: right;\">\n",
       "      <th></th>\n",
       "      <th>InvoiceNo</th>\n",
       "      <th>StockCode</th>\n",
       "      <th>Description</th>\n",
       "      <th>Quantity</th>\n",
       "      <th>InvoiceDate</th>\n",
       "      <th>UnitPrice</th>\n",
       "      <th>CustomerID</th>\n",
       "      <th>Country</th>\n",
       "    </tr>\n",
       "  </thead>\n",
       "  <tbody>\n",
       "    <tr>\n",
       "      <th>0</th>\n",
       "      <td>INV1000</td>\n",
       "      <td>STK939</td>\n",
       "      <td>Shoes</td>\n",
       "      <td>4</td>\n",
       "      <td>2023-01-01</td>\n",
       "      <td>177.13</td>\n",
       "      <td>15314</td>\n",
       "      <td>Germany</td>\n",
       "    </tr>\n",
       "    <tr>\n",
       "      <th>1</th>\n",
       "      <td>INV1001</td>\n",
       "      <td>STK307</td>\n",
       "      <td>Pen</td>\n",
       "      <td>10</td>\n",
       "      <td>2023-01-02</td>\n",
       "      <td>67.86</td>\n",
       "      <td>11443</td>\n",
       "      <td>Germany</td>\n",
       "    </tr>\n",
       "    <tr>\n",
       "      <th>2</th>\n",
       "      <td>INV1002</td>\n",
       "      <td>STK280</td>\n",
       "      <td>Pen</td>\n",
       "      <td>7</td>\n",
       "      <td>2023-01-03</td>\n",
       "      <td>427.54</td>\n",
       "      <td>12185</td>\n",
       "      <td>Germany</td>\n",
       "    </tr>\n",
       "    <tr>\n",
       "      <th>3</th>\n",
       "      <td>INV1003</td>\n",
       "      <td>STK354</td>\n",
       "      <td>Book</td>\n",
       "      <td>4</td>\n",
       "      <td>2023-01-04</td>\n",
       "      <td>489.48</td>\n",
       "      <td>14723</td>\n",
       "      <td>Germany</td>\n",
       "    </tr>\n",
       "    <tr>\n",
       "      <th>4</th>\n",
       "      <td>INV1004</td>\n",
       "      <td>STK928</td>\n",
       "      <td>Book</td>\n",
       "      <td>8</td>\n",
       "      <td>2023-01-05</td>\n",
       "      <td>179.14</td>\n",
       "      <td>15712</td>\n",
       "      <td>India</td>\n",
       "    </tr>\n",
       "    <tr>\n",
       "      <th>...</th>\n",
       "      <td>...</td>\n",
       "      <td>...</td>\n",
       "      <td>...</td>\n",
       "      <td>...</td>\n",
       "      <td>...</td>\n",
       "      <td>...</td>\n",
       "      <td>...</td>\n",
       "      <td>...</td>\n",
       "    </tr>\n",
       "    <tr>\n",
       "      <th>195</th>\n",
       "      <td>INV1195</td>\n",
       "      <td>STK776</td>\n",
       "      <td>Bag</td>\n",
       "      <td>5</td>\n",
       "      <td>2023-07-15</td>\n",
       "      <td>390.82</td>\n",
       "      <td>13737</td>\n",
       "      <td>Germany</td>\n",
       "    </tr>\n",
       "    <tr>\n",
       "      <th>196</th>\n",
       "      <td>INV1196</td>\n",
       "      <td>STK787</td>\n",
       "      <td>Shoes</td>\n",
       "      <td>1</td>\n",
       "      <td>2023-07-16</td>\n",
       "      <td>298.67</td>\n",
       "      <td>11518</td>\n",
       "      <td>USA</td>\n",
       "    </tr>\n",
       "    <tr>\n",
       "      <th>197</th>\n",
       "      <td>INV1197</td>\n",
       "      <td>STK826</td>\n",
       "      <td>Pen</td>\n",
       "      <td>3</td>\n",
       "      <td>2023-07-17</td>\n",
       "      <td>212.68</td>\n",
       "      <td>12003</td>\n",
       "      <td>Canada</td>\n",
       "    </tr>\n",
       "    <tr>\n",
       "      <th>198</th>\n",
       "      <td>INV1198</td>\n",
       "      <td>STK777</td>\n",
       "      <td>Shoes</td>\n",
       "      <td>2</td>\n",
       "      <td>2023-07-18</td>\n",
       "      <td>409.72</td>\n",
       "      <td>10639</td>\n",
       "      <td>India</td>\n",
       "    </tr>\n",
       "    <tr>\n",
       "      <th>199</th>\n",
       "      <td>INV1199</td>\n",
       "      <td>STK360</td>\n",
       "      <td>Book</td>\n",
       "      <td>4</td>\n",
       "      <td>2023-07-19</td>\n",
       "      <td>245.11</td>\n",
       "      <td>12427</td>\n",
       "      <td>India</td>\n",
       "    </tr>\n",
       "  </tbody>\n",
       "</table>\n",
       "<p>200 rows × 8 columns</p>\n",
       "</div>"
      ],
      "text/plain": [
       "    InvoiceNo StockCode Description  Quantity InvoiceDate  UnitPrice  \\\n",
       "0     INV1000    STK939       Shoes         4  2023-01-01     177.13   \n",
       "1     INV1001    STK307         Pen        10  2023-01-02      67.86   \n",
       "2     INV1002    STK280         Pen         7  2023-01-03     427.54   \n",
       "3     INV1003    STK354        Book         4  2023-01-04     489.48   \n",
       "4     INV1004    STK928        Book         8  2023-01-05     179.14   \n",
       "..        ...       ...         ...       ...         ...        ...   \n",
       "195   INV1195    STK776         Bag         5  2023-07-15     390.82   \n",
       "196   INV1196    STK787       Shoes         1  2023-07-16     298.67   \n",
       "197   INV1197    STK826         Pen         3  2023-07-17     212.68   \n",
       "198   INV1198    STK777       Shoes         2  2023-07-18     409.72   \n",
       "199   INV1199    STK360        Book         4  2023-07-19     245.11   \n",
       "\n",
       "     CustomerID  Country  \n",
       "0         15314  Germany  \n",
       "1         11443  Germany  \n",
       "2         12185  Germany  \n",
       "3         14723  Germany  \n",
       "4         15712    India  \n",
       "..          ...      ...  \n",
       "195       13737  Germany  \n",
       "196       11518      USA  \n",
       "197       12003   Canada  \n",
       "198       10639    India  \n",
       "199       12427    India  \n",
       "\n",
       "[200 rows x 8 columns]"
      ]
     },
     "execution_count": 43,
     "metadata": {},
     "output_type": "execute_result"
    }
   ],
   "source": [
    "df"
   ]
  }
 ],
 "metadata": {
  "kernelspec": {
   "display_name": "venv",
   "language": "python",
   "name": "python3"
  },
  "language_info": {
   "codemirror_mode": {
    "name": "ipython",
    "version": 3
   },
   "file_extension": ".py",
   "mimetype": "text/x-python",
   "name": "python",
   "nbconvert_exporter": "python",
   "pygments_lexer": "ipython3",
   "version": "3.10.0"
  }
 },
 "nbformat": 4,
 "nbformat_minor": 5
}
